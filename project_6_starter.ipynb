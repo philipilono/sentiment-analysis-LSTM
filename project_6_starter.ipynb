{
 "cells": [
  {
   "cell_type": "markdown",
   "metadata": {},
   "source": [
    "# Project 6: Analyzing Stock Sentiment from Twits\n",
    "## Instructions\n",
    "Each problem consists of a function to implement and instructions on how to implement the function.  The parts of the function that need to be implemented are marked with a `# TODO` comment.\n",
    "\n",
    "## Packages\n",
    "When you implement the functions, you'll only need to you use the packages you've used in the classroom, like [Pandas](https://pandas.pydata.org/) and [Numpy](http://www.numpy.org/). These packages will be imported for you. We recommend you don't add any import statements, otherwise the grader might not be able to run your code.\n",
    "\n",
    "### Load Packages"
   ]
  },
  {
   "cell_type": "code",
   "execution_count": 1,
   "metadata": {},
   "outputs": [],
   "source": [
    "import json\n",
    "import nltk\n",
    "import os\n",
    "import random\n",
    "import re\n",
    "import torch\n",
    "\n",
    "from torch import nn, optim\n",
    "import torch.nn.functional as F"
   ]
  },
  {
   "cell_type": "markdown",
   "metadata": {},
   "source": [
    "## Introduction\n",
    "When deciding the value of a company, it's important to follow the news. For example, a product recall or natural disaster in a company's product chain. You want to be able to turn this information into a signal. Currently, the best tool for the job is a Neural Network. \n",
    "\n",
    "For this project, you'll use posts from the social media site [StockTwits](https://en.wikipedia.org/wiki/StockTwits). The community on StockTwits is full of investors, traders, and entrepreneurs. Each message posted is called a Twit. This is similar to Twitter's version of a post, called a Tweet. You'll build a model around these twits that generate a sentiment score.\n",
    "\n",
    "We've collected a bunch of twits, then hand labeled the sentiment of each. To capture the degree of sentiment, we'll use a five-point scale: very negative, negative, neutral, positive, very positive. Each twit is labeled -2 to 2 in steps of 1, from very negative to very positive respectively. You'll build a sentiment analysis model that will learn to assign sentiment to twits on its own, using this labeled data.\n",
    "\n",
    "The first thing we should to do, is load the data.\n",
    "\n",
    "## Import Twits \n",
    "### Load Twits Data \n",
    "This JSON file contains a list of objects for each twit in the `'data'` field:\n",
    "\n",
    "```\n",
    "{'data':\n",
    "  {'message_body': 'Neutral twit body text here',\n",
    "   'sentiment': 0},\n",
    "  {'message_body': 'Happy twit body text here',\n",
    "   'sentiment': 1},\n",
    "   ...\n",
    "}\n",
    "```\n",
    "\n",
    "The fields represent the following:\n",
    "\n",
    "* `'message_body'`: The text of the twit.\n",
    "* `'sentiment'`: Sentiment score for the twit, ranges from -2 to 2 in steps of 1, with 0 being neutral.\n",
    "\n",
    "\n",
    "To see what the data look like by printing the first 10 twits from the list. "
   ]
  },
  {
   "cell_type": "code",
   "execution_count": 2,
   "metadata": {},
   "outputs": [
    {
     "name": "stdout",
     "output_type": "stream",
     "text": [
      "[{'message_body': '$FITB great buy at 26.00...ill wait', 'sentiment': 2, 'timestamp': '2018-07-01T00:00:09Z'}, {'message_body': '@StockTwits $MSFT', 'sentiment': 1, 'timestamp': '2018-07-01T00:00:42Z'}, {'message_body': '#STAAnalystAlert for $TDG : Jefferies Maintains with a rating of Hold setting target price at USD 350.00. Our own verdict is Buy  http://www.stocktargetadvisor.com/toprating', 'sentiment': 2, 'timestamp': '2018-07-01T00:01:24Z'}, {'message_body': '$AMD I heard there’s a guy who knows someone who thinks somebody knows something - on StockTwits.', 'sentiment': 1, 'timestamp': '2018-07-01T00:01:47Z'}, {'message_body': '$AMD reveal yourself!', 'sentiment': 0, 'timestamp': '2018-07-01T00:02:13Z'}, {'message_body': '$AAPL Why the drop? I warren Buffet taking out his position?', 'sentiment': 1, 'timestamp': '2018-07-01T00:03:10Z'}, {'message_body': '$BA bears have 1 reason on 06-29 to pay more attention https://dividendbot.com?s=BA', 'sentiment': -2, 'timestamp': '2018-07-01T00:04:09Z'}, {'message_body': '$BAC ok good we&#39;re not dropping in price over the weekend, lol', 'sentiment': 1, 'timestamp': '2018-07-01T00:04:17Z'}, {'message_body': '$AMAT - Daily Chart, we need to get back to above 50.', 'sentiment': 2, 'timestamp': '2018-07-01T00:08:01Z'}, {'message_body': '$GME 3% drop per week after spike... if no news in 3 months, back to 12s... if BO, then bingo... what is the odds?', 'sentiment': -2, 'timestamp': '2018-07-01T00:09:03Z'}]\n"
     ]
    }
   ],
   "source": [
    "with open(os.path.join('..', '..', 'data', 'project_6_stocktwits', 'twits.json'), 'r') as f:\n",
    "    twits = json.load(f)\n",
    "\n",
    "print(twits['data'][:10])"
   ]
  },
  {
   "cell_type": "markdown",
   "metadata": {},
   "source": [
    "### Length of Data\n",
    "Now let's look at the number of twits in dataset. Print the number of twits below."
   ]
  },
  {
   "cell_type": "code",
   "execution_count": 3,
   "metadata": {},
   "outputs": [
    {
     "name": "stdout",
     "output_type": "stream",
     "text": [
      "1548010\n"
     ]
    }
   ],
   "source": [
    "\"\"\"print out the number of twits\"\"\"\n",
    "length = len(twits['data'])\n",
    "print(length) "
   ]
  },
  {
   "cell_type": "markdown",
   "metadata": {},
   "source": [
    "### Split Message Body and Sentiment Score"
   ]
  },
  {
   "cell_type": "code",
   "execution_count": 4,
   "metadata": {},
   "outputs": [],
   "source": [
    "messages = [twit['message_body'] for twit in twits['data']]\n",
    "# Since the sentiment scores are discrete, we'll scale the sentiments to 0 to 4 for use in our network\n",
    "sentiments = [twit['sentiment'] + 2 for twit in twits['data']]"
   ]
  },
  {
   "cell_type": "markdown",
   "metadata": {},
   "source": [
    "## Preprocessing the Data\n",
    "With our data in hand we need to preprocess our text. These twits are collected by filtering on ticker symbols where these are denoted with a leader $ symbol in the twit itself. For example,\n",
    "\n",
    "`{'message_body': 'RT @google Our annual look at the year in Google blogging (and beyond) http://t.co/sptHOAh8 $GOOG',\n",
    " 'sentiment': 0}`\n",
    "\n",
    "The ticker symbols don't provide information on the sentiment, and they are in every twit, so we should remove them. This twit also has the `@google` username, again not providing sentiment information, so we should also remove it. We also see a URL `http://t.co/sptHOAh8`. Let's remove these too.\n",
    "\n",
    "The easiest way to remove specific words or phrases is with regex using the `re` module. You can sub out specific patterns with a space:\n",
    "\n",
    "```python\n",
    "re.sub(pattern, ' ', text)\n",
    "```\n",
    "This will substitute a space with anywhere the pattern matches in the text. Later when we tokenize the text, we'll split appropriately on those spaces."
   ]
  },
  {
   "cell_type": "markdown",
   "metadata": {},
   "source": [
    "### Pre-Processing"
   ]
  },
  {
   "cell_type": "code",
   "execution_count": 5,
   "metadata": {},
   "outputs": [
    {
     "name": "stdout",
     "output_type": "stream",
     "text": [
      "[nltk_data] Downloading package wordnet to /root/nltk_data...\n"
     ]
    }
   ],
   "source": [
    "nltk.download('wordnet')\n",
    "\n",
    "\n",
    "def preprocess(message):\n",
    "    \"\"\"\n",
    "    This function takes a string as input, then performs these operations: \n",
    "        - lowercase\n",
    "        - remove URLs\n",
    "        - remove ticker symbols \n",
    "        - removes punctuation\n",
    "        - tokenize by splitting the string on whitespace \n",
    "        - removes any single character tokens\n",
    "    \n",
    "    Parameters\n",
    "    ----------\n",
    "        message : The text message to be preprocessed.\n",
    "        \n",
    "    Returns\n",
    "    -------\n",
    "        tokens: The preprocessed text into tokens.\n",
    "    \"\"\" \n",
    "    #TODO: Implement \n",
    "    \n",
    "    text = [word.lower() for word in message]\n",
    "    \n",
    "    # Replace URLs with a space in the message\n",
    "    text = [re.sub(r'http\\S+', '', word) for word in text]\n",
    "    \n",
    "    # Replace ticker symbols with a space. The ticker symbols are any stock symbol that starts with $.\n",
    "    text = [re.sub(r'\\$\\w+', '', word) for word in text]\n",
    "    \n",
    "    # Replace StockTwits usernames with a space. The usernames are any word that starts with @.\n",
    "    text = [re.sub(r'@\\w+', '', word) for word in text]\n",
    "\n",
    "    # Replace everything not a letter with a space\n",
    "    text = [re.sub(r'[^a-zA-Z]', ' ', word) for word in text]\n",
    "    \n",
    "    # Tokenize by splitting the string on whitespace into a list of words\n",
    "    tokens = [word.split() for word in text]\n",
    "    \n",
    "    # Lemmatize words using the WordNetLemmatizer. You can ignore any word that is not longer than one character.\n",
    "    wnl = nltk.stem.WordNetLemmatizer()\n",
    "\n",
    "    # Lemmatize words using the WordNetLemmatizer. You can ignore any word that is not longer than one character.\n",
    "    wnl = nltk.stem.WordNetLemmatizer()\n",
    "    tokens = [[wnl.lemmatize(word) for word in token] for token in tokens]\n",
    "    \n",
    "    assert type(tokens) == list, 'Tokens should be list'\n",
    "    return tokens"
   ]
  },
  {
   "cell_type": "markdown",
   "metadata": {},
   "source": [
    ">Note: You must ensure that after preprocessing the text should NOT include:\n",
    "- Numbers\n",
    "- URLs\n",
    "- Single character tokens\n",
    "- Ticker symbols (these should be removed even if they don't appear at the beginning)"
   ]
  },
  {
   "cell_type": "markdown",
   "metadata": {},
   "source": [
    "### Preprocess All the Twits \n",
    "Now we can preprocess each of the twits in our dataset. Apply the function `preprocess` to all the twit messages."
   ]
  },
  {
   "cell_type": "code",
   "execution_count": 6,
   "metadata": {},
   "outputs": [],
   "source": [
    "\n",
    "tokenized = preprocess(messages)"
   ]
  },
  {
   "cell_type": "markdown",
   "metadata": {},
   "source": [
    "### Bag of Words\n",
    "Now with all of our messages tokenized, we want to create a vocabulary and count up how often each word appears in our entire corpus. Use the [`Counter`](https://docs.python.org/3.1/library/collections.html#collections.Counter) function to count up all the tokens."
   ]
  },
  {
   "cell_type": "code",
   "execution_count": 7,
   "metadata": {},
   "outputs": [],
   "source": [
    "from collections import Counter\n",
    "\n",
    "\n",
    "\"\"\"\n",
    "Create a vocabulary by using Bag of words\n",
    "\"\"\"\n",
    "\n",
    "bow = Counter()\n",
    "for tokens in tokenized:\n",
    "    bow.update(tokens)"
   ]
  },
  {
   "cell_type": "markdown",
   "metadata": {},
   "source": [
    "### Frequency of Words Appearing in Message\n",
    "With our vocabulary, now we'll remove some of the most common words such as 'the', 'and', 'it', etc. These words don't contribute to identifying sentiment and are really common, resulting in a lot of noise in our input. If we can filter these out, then our network should have an easier time learning.\n",
    "\n",
    "We also want to remove really rare words that show up in a only a few twits. Here you'll want to divide the count of each word by the **number of messages** calculated in the code block above (i.e. `len(messages))`. Then remove words that only appear in some small fraction of the messages.\n",
    "\n",
    ">Note: There is not an exact number for low and high-frequency cut-offs, however there is a correct optimal range.\n",
    "You should ideally set up low-frequency cut-off from 0.0000002 to 0.000007 (inclusive) and high-frequency from 5 to 20 (inclusive). If the number is too big, we lose lots of important words that we can use in our data."
   ]
  },
  {
   "cell_type": "code",
   "execution_count": 8,
   "metadata": {},
   "outputs": [
    {
     "name": "stdout",
     "output_type": "stream",
     "text": [
      "{'the': 398809, 'to': 379508, 'a': 326078, 'is': 284887, 'for': 273544, 'on': 241666, 'of': 211336, 'and': 208508, 'in': 205323, 'this': 203572, 's': 200750, 'it': 193535, 'i': 182995, 'at': 138459, 'will': 128206, 'up': 121577, 'are': 101427, 'you': 94325, 'that': 89677, 'be': 89281}\n"
     ]
    },
    {
     "data": {
      "text/plain": [
       "98394"
      ]
     },
     "execution_count": 8,
     "metadata": {},
     "output_type": "execute_result"
    }
   ],
   "source": [
    "\"\"\"\n",
    "Set the following variables:\n",
    "    freqs\n",
    "    low_cutoff\n",
    "    high_cutoff\n",
    "    K_most_common\n",
    "\"\"\"\n",
    "\n",
    "# TODO Implement \n",
    "\n",
    "# Dictionart that contains the Frequency of words appearing in messages.\n",
    "# The key is the token and the value is the frequency of that word in the corpus.\n",
    "freqs = {word: count / length for word, count in bow.items()}\n",
    "\n",
    "# Float that is the frequency cutoff. Drop words with a frequency that is lower or equal to this number.\n",
    "low_cutoff =  0.0000002\n",
    "\n",
    "# Integer that is the cut off for most common words. Drop words that are the `high_cutoff` most common words.\n",
    "high_cutoff = 20\n",
    "\n",
    "# The k most common words in the corpus. Use `high_cutoff` as the k.\n",
    "K_most_common = dict(bow.most_common(high_cutoff))\n",
    "\n",
    "\n",
    "filtered_words = [word for word in freqs if (freqs[word] > low_cutoff and word not in K_most_common)]\n",
    "print(K_most_common)\n",
    "len(filtered_words) "
   ]
  },
  {
   "cell_type": "markdown",
   "metadata": {},
   "source": [
    "### Updating Vocabulary by Removing Filtered Words\n",
    "Let's creat three variables that will help with our vocabulary."
   ]
  },
  {
   "cell_type": "code",
   "execution_count": 9,
   "metadata": {},
   "outputs": [],
   "source": [
    "\"\"\"\n",
    "Set the following variables:\n",
    "    vocab\n",
    "    id2vocab\n",
    "    filtered\n",
    "\"\"\"\n",
    "\n",
    "#TODO Implement\n",
    "\n",
    "# A dictionary for the `filtered_words`. The key is the word and value is an id that represents the word. \n",
    "vocab = {word: i for i, word in enumerate(filtered_words)}\n",
    "# Reverse of the `vocab` dictionary. The key is word id and value is the word. \n",
    "id2vocab = {j: word for word, j in vocab.items()}\n",
    "# tokenized with the words not in `filtered_words` removed.\n",
    "filtered = [[word for word in tokens if word in vocab] for tokens in tokenized]\n",
    "\n",
    "assert set(vocab.keys()) == set(id2vocab.values()), 'Check vocab and id2vocab dictionaries'"
   ]
  },
  {
   "cell_type": "markdown",
   "metadata": {},
   "source": [
    "### Balancing the classes\n",
    "Let's do a few last pre-processing steps. If we look at how our twits are labeled, we'll find that 50% of them are neutral. This means that our network will be 50% accurate just by guessing 0 every single time. To help our network learn appropriately, we'll want to balance our classes.\n",
    "That is, make sure each of our different sentiment scores show up roughly as frequently in the data.\n",
    "\n",
    "What we can do here is go through each of our examples and randomly drop twits with neutral sentiment. What should be the probability we drop these twits if we want to get around 20% neutral twits starting at 50% neutral? We should also take this opportunity to remove messages with length 0."
   ]
  },
  {
   "cell_type": "code",
   "execution_count": 10,
   "metadata": {},
   "outputs": [],
   "source": [
    "balanced = {'messages': [], 'sentiments':[]}\n",
    "\n",
    "n_neutral = sum(1 for each in sentiments if each == 2)\n",
    "N_examples = len(sentiments)\n",
    "keep_prob = (N_examples - n_neutral)/4/n_neutral\n",
    "\n",
    "for idx, sentiment in enumerate(sentiments):\n",
    "    message = filtered[idx]\n",
    "    if len(message) == 0:\n",
    "        # skip this message because it has length zero\n",
    "        continue\n",
    "    elif sentiment != 2 or random.random() < keep_prob:\n",
    "        balanced['messages'].append(message)\n",
    "        balanced['sentiments'].append(sentiment) "
   ]
  },
  {
   "cell_type": "markdown",
   "metadata": {},
   "source": [
    "If you did it correctly, you should see the following result "
   ]
  },
  {
   "cell_type": "code",
   "execution_count": 11,
   "metadata": {},
   "outputs": [
    {
     "data": {
      "text/plain": [
       "0.19556042560441092"
      ]
     },
     "execution_count": 11,
     "metadata": {},
     "output_type": "execute_result"
    }
   ],
   "source": [
    "n_neutral = sum(1 for each in balanced['sentiments'] if each == 2)\n",
    "N_examples = len(balanced['sentiments'])\n",
    "n_neutral/N_examples"
   ]
  },
  {
   "cell_type": "markdown",
   "metadata": {},
   "source": [
    "Finally let's convert our tokens into integer ids which we can pass to the network."
   ]
  },
  {
   "cell_type": "code",
   "execution_count": 12,
   "metadata": {},
   "outputs": [],
   "source": [
    "token_ids = [[vocab[word] for word in message] for message in balanced['messages']]\n",
    "sentiments = balanced['sentiments']"
   ]
  },
  {
   "cell_type": "markdown",
   "metadata": {},
   "source": [
    "## Neural Network\n",
    "Now we have our vocabulary which means we can transform our tokens into ids, which are then passed to our network. So, let's define the network now!\n",
    "\n",
    "Here is a nice diagram showing the network we'd like to build: \n",
    "\n",
    "#### Embed -> RNN -> Dense -> Softmax\n",
    "### Implement the text classifier\n",
    "Before we build text classifier, if you remember from the other network that you built in  \"Sentiment Analysis with an RNN\"  exercise  - which there, the network called \" SentimentRNN\", here we named it \"TextClassifer\" - consists of three main parts: 1) init function `__init__` 2) forward pass `forward`  3) hidden state `init_hidden`. \n",
    "\n",
    "This network is pretty similar to the network you built expect in the  `forward` pass, we use softmax instead of sigmoid. The reason we are not using sigmoid is that the output of NN is not a binary. In our network, sentiment scores have 5 possible outcomes. We are looking for an outcome with the highest probability thus softmax is a better choice."
   ]
  },
  {
   "cell_type": "code",
   "execution_count": 54,
   "metadata": {},
   "outputs": [],
   "source": [
    "class TextClassifier(nn.Module):\n",
    "    def __init__(self, vocab_size, embed_size, lstm_size, output_size, lstm_layers=1, dropout=0.1):\n",
    "        \"\"\"\n",
    "        Initialize the model by setting up the layers.\n",
    "        \n",
    "        Parameters\n",
    "        ----------\n",
    "            vocab_size : The vocabulary size.\n",
    "            embed_size : The embedding layer size.\n",
    "            lstm_size : The LSTM layer size.\n",
    "            output_size : The output size.\n",
    "            lstm_layers : The number of LSTM layers.\n",
    "            dropout : The dropout probability.\n",
    "        \"\"\"\n",
    "        \n",
    "        super().__init__()\n",
    "        self.vocab_size = vocab_size\n",
    "        self.embed_size = embed_size\n",
    "        self.lstm_size = lstm_size\n",
    "        self.output_size = output_size\n",
    "        self.lstm_layers = lstm_layers\n",
    "        self.dropout = dropout\n",
    "        \n",
    "        # TODO Implement\n",
    "\n",
    "    \n",
    "        # Setup embedding layer\n",
    "        self.embedding = nn.Embedding(vocab_size, embed_size)\n",
    "        \n",
    "        # Setup additional layers\n",
    "        self.lstm = nn.LSTM(embed_size, lstm_size, lstm_layers, \n",
    "                            dropout=dropout, batch_first=False)\n",
    "        self.dropout = nn.Dropout(dropout)\n",
    "        self.fc = nn.Linear(lstm_size, output_size)\n",
    "        self.logsoftmax = nn.LogSoftmax(dim=1)\n",
    "\n",
    "    def init_hidden(self, batch_size):\n",
    "        \"\"\" \n",
    "        Initializes hidden state\n",
    "        \n",
    "        Parameters\n",
    "        ----------\n",
    "            batch_size : The size of batches.\n",
    "        \n",
    "        Returns\n",
    "        -------\n",
    "            hidden_state\n",
    "            \n",
    "        \"\"\"\n",
    "        \n",
    "        # TODO Implement \n",
    "        \n",
    "        # Create two new tensors with sizes n_layers x batch_size x hidden_dim,\n",
    "        # initialized to zero, for hidden state and cell state of LSTM\n",
    "        \n",
    "        weight = next(self.parameters()).data\n",
    "        \n",
    "        hidden_state = (weight.new(self.lstm_layers, batch_size, self.lstm_size).zero_(),\n",
    "                  weight.new(self.lstm_layers, batch_size, self.lstm_size).zero_())\n",
    "        \n",
    "        return hidden_state\n",
    "\n",
    "\n",
    "    def forward(self, nn_input, hidden_state):\n",
    "        \"\"\"\n",
    "        Perform a forward pass of our model on nn_input.\n",
    "        \n",
    "        Parameters\n",
    "        ----------\n",
    "            nn_input : The batch of input to the NN.\n",
    "            hidden_state : The LSTM hidden state.\n",
    "\n",
    "        Returns\n",
    "        -------\n",
    "            logps: log softmax output\n",
    "            hidden_state: The new hidden state.\n",
    "\n",
    "        \"\"\"\n",
    "        \n",
    "        batch_size = nn_input.size(0)\n",
    "        \n",
    "        x = self.embedding(nn_input)\n",
    "        \n",
    "        lstm_out, hidden_state = self.lstm(x, hidden_state)\n",
    "        lstm_out = lstm_out[-1]\n",
    "        \n",
    "        out = self.dropout(lstm_out)\n",
    "        out = self.fc(out)\n",
    "        logps = self.logsoftmax(out)\n",
    "        \n",
    "        return logps, hidden_state"
   ]
  },
  {
   "cell_type": "markdown",
   "metadata": {},
   "source": [
    "### View Model"
   ]
  },
  {
   "cell_type": "code",
   "execution_count": 14,
   "metadata": {},
   "outputs": [
    {
     "name": "stdout",
     "output_type": "stream",
     "text": [
      "tensor([[-1.3565, -1.7673, -1.6605, -1.5111, -1.8267],\n",
      "        [-1.3354, -1.7307, -1.6659, -1.5602, -1.8285],\n",
      "        [-1.3413, -1.7232, -1.6575, -1.5585, -1.8394],\n",
      "        [-1.3310, -1.7277, -1.6515, -1.5625, -1.8533]])\n"
     ]
    }
   ],
   "source": [
    "model = TextClassifier(len(vocab), 10, 6, 5, dropout=0.1, lstm_layers=2)\n",
    "model.embedding.weight.data.uniform_(-1, 1)\n",
    "input = torch.randint(0, 1000, (5, 4), dtype=torch.int64)\n",
    "hidden = model.init_hidden(4)\n",
    "\n",
    "logps, _ = model.forward(input, hidden)\n",
    "print(logps)"
   ]
  },
  {
   "cell_type": "markdown",
   "metadata": {},
   "source": [
    "## Training\n",
    "### DataLoaders and Batching\n",
    "Now we should build a generator that we can use to loop through our data. It'll be more efficient if we can pass our sequences in as batches. Our input tensors should look like `(sequence_length, batch_size)`. So if our sequences are 40 tokens long and we pass in 25 sequences, then we'd have an input size of `(40, 25)`.\n",
    "\n",
    "If we set our sequence length to 40, what do we do with messages that are more or less than 40 tokens? For messages with fewer than 40 tokens, we will pad the empty spots with zeros. We should be sure to **left** pad so that the RNN starts from nothing before going through the data. If the message has 20 tokens, then the first 20 spots of our 40 long sequence will be 0. If a message has more than 40 tokens, we'll just keep the first 40 tokens."
   ]
  },
  {
   "cell_type": "code",
   "execution_count": 15,
   "metadata": {},
   "outputs": [],
   "source": [
    "def dataloader(messages, labels, sequence_length=30, batch_size=32, shuffle=False):\n",
    "    \"\"\" \n",
    "    Build a dataloader.\n",
    "    \"\"\"\n",
    "    if shuffle:\n",
    "        indices = list(range(len(messages)))\n",
    "        random.shuffle(indices)\n",
    "        messages = [messages[idx] for idx in indices]\n",
    "        labels = [labels[idx] for idx in indices]\n",
    "\n",
    "    total_sequences = len(messages)\n",
    "\n",
    "    for ii in range(0, total_sequences, batch_size):\n",
    "        batch_messages = messages[ii: ii+batch_size]\n",
    "        \n",
    "        # First initialize a tensor of all zeros\n",
    "        batch = torch.zeros((sequence_length, len(batch_messages)), dtype=torch.int64)\n",
    "        for batch_num, tokens in enumerate(batch_messages):\n",
    "            token_tensor = torch.tensor(tokens)\n",
    "            # Left pad!\n",
    "            start_idx = max(sequence_length - len(token_tensor), 0)\n",
    "            batch[start_idx:, batch_num] = token_tensor[:sequence_length]\n",
    "        \n",
    "        label_tensor = torch.tensor(labels[ii: ii+len(batch_messages)])\n",
    "        \n",
    "        yield batch, label_tensor"
   ]
  },
  {
   "cell_type": "markdown",
   "metadata": {},
   "source": [
    "### Training and  Validation\n",
    "With our data in nice shape, we'll split it into training and validation sets."
   ]
  },
  {
   "cell_type": "code",
   "execution_count": 16,
   "metadata": {},
   "outputs": [],
   "source": [
    "\"\"\"\n",
    "Split data into training and validation datasets. Use an appropriate split size.\n",
    "The features are the `token_ids` and the labels are the `sentiments`.\n",
    "\"\"\"   \n",
    "\n",
    "# TODO Implement \n",
    "\n",
    "split_idx = int(len(token_ids) * 0.8)\n",
    "train_features = token_ids[:split_idx]\n",
    "valid_features = token_ids[split_idx:]\n",
    "train_labels = sentiments[:split_idx]\n",
    "valid_labels = sentiments[split_idx:]"
   ]
  },
  {
   "cell_type": "code",
   "execution_count": 17,
   "metadata": {},
   "outputs": [],
   "source": [
    "text_batch, labels = next(iter(dataloader(train_features, train_labels, sequence_length=20, batch_size=64)))\n",
    "model = TextClassifier(len(vocab)+1, 200, 128, 5, dropout=0.)\n",
    "hidden = model.init_hidden(64)\n",
    "logps, hidden = model.forward(text_batch, hidden)"
   ]
  },
  {
   "cell_type": "markdown",
   "metadata": {},
   "source": [
    "### Training\n",
    "It's time to train the neural network!"
   ]
  },
  {
   "cell_type": "code",
   "execution_count": 18,
   "metadata": {},
   "outputs": [
    {
     "data": {
      "text/plain": [
       "TextClassifier(\n",
       "  (embedding): Embedding(98395, 1024)\n",
       "  (lstm): LSTM(1024, 512, num_layers=2, dropout=0.2)\n",
       "  (dropout): Dropout(p=0.2)\n",
       "  (fc): Linear(in_features=512, out_features=5, bias=True)\n",
       "  (logsoftmax): LogSoftmax()\n",
       ")"
      ]
     },
     "execution_count": 18,
     "metadata": {},
     "output_type": "execute_result"
    }
   ],
   "source": [
    "device = torch.device(\"cuda\" if torch.cuda.is_available() else \"cpu\")\n",
    "\n",
    "model = TextClassifier(len(vocab)+1, 1024, 512, 5, lstm_layers=2, dropout=0.2)\n",
    "model.embedding.weight.data.uniform_(-1, 1)\n",
    "model.to(device)"
   ]
  },
  {
   "cell_type": "code",
   "execution_count": 24,
   "metadata": {},
   "outputs": [
    {
     "name": "stdout",
     "output_type": "stream",
     "text": [
      "Starting epoch 1\n",
      "Epoch 1/3, Step 100, Train Loss: 0.6403, Validation Loss: 0.7434, Validation Accuracy: 0.7157\n",
      "Epoch 1/3, Step 200, Train Loss: 0.7138, Validation Loss: 0.7488, Validation Accuracy: 0.7130\n",
      "Epoch 1/3, Step 300, Train Loss: 0.6783, Validation Loss: 0.7513, Validation Accuracy: 0.7146\n",
      "Epoch 1/3, Step 400, Train Loss: 0.6429, Validation Loss: 0.7478, Validation Accuracy: 0.7119\n",
      "Epoch 1/3, Step 500, Train Loss: 0.5878, Validation Loss: 0.7473, Validation Accuracy: 0.7112\n",
      "Epoch 1/3, Step 600, Train Loss: 0.5942, Validation Loss: 0.7428, Validation Accuracy: 0.7135\n",
      "Epoch 1/3, Step 700, Train Loss: 0.6351, Validation Loss: 0.7445, Validation Accuracy: 0.7120\n",
      "Epoch 1/3, Step 800, Train Loss: 0.7332, Validation Loss: 0.7374, Validation Accuracy: 0.7170\n",
      "Epoch 1/3, Step 900, Train Loss: 0.6899, Validation Loss: 0.7345, Validation Accuracy: 0.7188\n",
      "Epoch 1/3, Step 1000, Train Loss: 0.6562, Validation Loss: 0.7358, Validation Accuracy: 0.7163\n",
      "Epoch 1/3, Step 1100, Train Loss: 0.6481, Validation Loss: 0.7327, Validation Accuracy: 0.7190\n",
      "Epoch 1/3, Step 1200, Train Loss: 0.7209, Validation Loss: 0.7325, Validation Accuracy: 0.7177\n",
      "Epoch 1/3, Step 1300, Train Loss: 0.6457, Validation Loss: 0.7362, Validation Accuracy: 0.7162\n",
      "Epoch 1/3, Step 1400, Train Loss: 0.7416, Validation Loss: 0.7338, Validation Accuracy: 0.7180\n",
      "Epoch 1/3, Step 1500, Train Loss: 0.7144, Validation Loss: 0.7282, Validation Accuracy: 0.7210\n",
      "Epoch 1/3, Step 1600, Train Loss: 0.7250, Validation Loss: 0.7306, Validation Accuracy: 0.7185\n",
      "Epoch 1/3, Step 1700, Train Loss: 0.6574, Validation Loss: 0.7285, Validation Accuracy: 0.7178\n",
      "Epoch 1/3, Step 1800, Train Loss: 0.6015, Validation Loss: 0.7291, Validation Accuracy: 0.7200\n",
      "Epoch 1/3, Step 1900, Train Loss: 0.6979, Validation Loss: 0.7304, Validation Accuracy: 0.7194\n",
      "Epoch 1/3, Step 2000, Train Loss: 0.5918, Validation Loss: 0.7330, Validation Accuracy: 0.7172\n",
      "Epoch 1/3, Step 2100, Train Loss: 0.7825, Validation Loss: 0.7276, Validation Accuracy: 0.7187\n",
      "Epoch 1/3, Step 2200, Train Loss: 0.7173, Validation Loss: 0.7234, Validation Accuracy: 0.7220\n",
      "Epoch 1/3, Step 2300, Train Loss: 0.6983, Validation Loss: 0.7219, Validation Accuracy: 0.7237\n",
      "Epoch 1/3, Step 2400, Train Loss: 0.6983, Validation Loss: 0.7221, Validation Accuracy: 0.7223\n",
      "Epoch 1/3, Step 2500, Train Loss: 0.6721, Validation Loss: 0.7204, Validation Accuracy: 0.7210\n",
      "Epoch 1/3, Step 2600, Train Loss: 0.6852, Validation Loss: 0.7195, Validation Accuracy: 0.7253\n",
      "Epoch 1/3, Step 2700, Train Loss: 0.7025, Validation Loss: 0.7262, Validation Accuracy: 0.7239\n",
      "Epoch 1/3, Step 2800, Train Loss: 0.6581, Validation Loss: 0.7193, Validation Accuracy: 0.7236\n",
      "Epoch 1/3, Step 2900, Train Loss: 0.6748, Validation Loss: 0.7238, Validation Accuracy: 0.7203\n",
      "Epoch 1/3, Step 3000, Train Loss: 0.7285, Validation Loss: 0.7184, Validation Accuracy: 0.7241\n",
      "Epoch 1/3, Step 3100, Train Loss: 0.7166, Validation Loss: 0.7201, Validation Accuracy: 0.7210\n",
      "Epoch 1/3, Step 3200, Train Loss: 0.6906, Validation Loss: 0.7208, Validation Accuracy: 0.7222\n",
      "Starting epoch 2\n",
      "Epoch 2/3, Step 100, Train Loss: 0.4998, Validation Loss: 0.7482, Validation Accuracy: 0.7169\n",
      "Epoch 2/3, Step 200, Train Loss: 0.6832, Validation Loss: 0.7480, Validation Accuracy: 0.7168\n",
      "Epoch 2/3, Step 300, Train Loss: 0.5221, Validation Loss: 0.7492, Validation Accuracy: 0.7195\n",
      "Epoch 2/3, Step 400, Train Loss: 0.5243, Validation Loss: 0.7445, Validation Accuracy: 0.7191\n",
      "Epoch 2/3, Step 500, Train Loss: 0.6246, Validation Loss: 0.7538, Validation Accuracy: 0.7173\n",
      "Epoch 2/3, Step 600, Train Loss: 0.6361, Validation Loss: 0.7487, Validation Accuracy: 0.7173\n",
      "Epoch 2/3, Step 700, Train Loss: 0.6527, Validation Loss: 0.7466, Validation Accuracy: 0.7137\n",
      "Epoch 2/3, Step 800, Train Loss: 0.5708, Validation Loss: 0.7453, Validation Accuracy: 0.7193\n",
      "Epoch 2/3, Step 900, Train Loss: 0.6004, Validation Loss: 0.7474, Validation Accuracy: 0.7218\n",
      "Epoch 2/3, Step 1000, Train Loss: 0.6496, Validation Loss: 0.7500, Validation Accuracy: 0.7201\n",
      "Epoch 2/3, Step 1100, Train Loss: 0.6370, Validation Loss: 0.7416, Validation Accuracy: 0.7192\n",
      "Epoch 2/3, Step 1200, Train Loss: 0.5248, Validation Loss: 0.7433, Validation Accuracy: 0.7184\n",
      "Epoch 2/3, Step 1300, Train Loss: 0.5294, Validation Loss: 0.7455, Validation Accuracy: 0.7218\n",
      "Epoch 2/3, Step 1400, Train Loss: 0.5565, Validation Loss: 0.7461, Validation Accuracy: 0.7198\n",
      "Epoch 2/3, Step 1500, Train Loss: 0.4942, Validation Loss: 0.7425, Validation Accuracy: 0.7178\n",
      "Epoch 2/3, Step 1600, Train Loss: 0.6009, Validation Loss: 0.7404, Validation Accuracy: 0.7214\n",
      "Epoch 2/3, Step 1700, Train Loss: 0.5462, Validation Loss: 0.7408, Validation Accuracy: 0.7203\n",
      "Epoch 2/3, Step 1800, Train Loss: 0.6667, Validation Loss: 0.7415, Validation Accuracy: 0.7191\n",
      "Epoch 2/3, Step 1900, Train Loss: 0.5592, Validation Loss: 0.7378, Validation Accuracy: 0.7193\n",
      "Epoch 2/3, Step 2000, Train Loss: 0.5604, Validation Loss: 0.7366, Validation Accuracy: 0.7218\n",
      "Epoch 2/3, Step 2100, Train Loss: 0.6070, Validation Loss: 0.7379, Validation Accuracy: 0.7203\n",
      "Epoch 2/3, Step 2200, Train Loss: 0.6057, Validation Loss: 0.7418, Validation Accuracy: 0.7192\n",
      "Epoch 2/3, Step 2300, Train Loss: 0.6414, Validation Loss: 0.7475, Validation Accuracy: 0.7172\n",
      "Epoch 2/3, Step 2400, Train Loss: 0.7926, Validation Loss: 0.7400, Validation Accuracy: 0.7188\n",
      "Epoch 2/3, Step 2500, Train Loss: 0.6098, Validation Loss: 0.7380, Validation Accuracy: 0.7195\n",
      "Epoch 2/3, Step 2600, Train Loss: 0.5770, Validation Loss: 0.7393, Validation Accuracy: 0.7216\n",
      "Epoch 2/3, Step 2700, Train Loss: 0.6089, Validation Loss: 0.7352, Validation Accuracy: 0.7198\n",
      "Epoch 2/3, Step 2800, Train Loss: 0.6068, Validation Loss: 0.7357, Validation Accuracy: 0.7203\n",
      "Epoch 2/3, Step 2900, Train Loss: 0.6244, Validation Loss: 0.7325, Validation Accuracy: 0.7239\n",
      "Epoch 2/3, Step 3000, Train Loss: 0.7057, Validation Loss: 0.7361, Validation Accuracy: 0.7198\n",
      "Epoch 2/3, Step 3100, Train Loss: 0.5915, Validation Loss: 0.7341, Validation Accuracy: 0.7218\n",
      "Epoch 2/3, Step 3200, Train Loss: 0.5918, Validation Loss: 0.7297, Validation Accuracy: 0.7219\n",
      "Starting epoch 3\n",
      "Epoch 3/3, Step 100, Train Loss: 0.4248, Validation Loss: 0.7860, Validation Accuracy: 0.7165\n",
      "Epoch 3/3, Step 200, Train Loss: 0.5562, Validation Loss: 0.8012, Validation Accuracy: 0.7127\n",
      "Epoch 3/3, Step 300, Train Loss: 0.5410, Validation Loss: 0.7998, Validation Accuracy: 0.7161\n",
      "Epoch 3/3, Step 400, Train Loss: 0.4671, Validation Loss: 0.8046, Validation Accuracy: 0.7121\n",
      "Epoch 3/3, Step 500, Train Loss: 0.4527, Validation Loss: 0.7973, Validation Accuracy: 0.7118\n",
      "Epoch 3/3, Step 600, Train Loss: 0.4873, Validation Loss: 0.8085, Validation Accuracy: 0.7128\n",
      "Epoch 3/3, Step 700, Train Loss: 0.5371, Validation Loss: 0.7995, Validation Accuracy: 0.7108\n",
      "Epoch 3/3, Step 800, Train Loss: 0.5736, Validation Loss: 0.8004, Validation Accuracy: 0.7109\n",
      "Epoch 3/3, Step 900, Train Loss: 0.6331, Validation Loss: 0.8009, Validation Accuracy: 0.7159\n",
      "Epoch 3/3, Step 1000, Train Loss: 0.5246, Validation Loss: 0.8059, Validation Accuracy: 0.7108\n",
      "Epoch 3/3, Step 1100, Train Loss: 0.4765, Validation Loss: 0.7994, Validation Accuracy: 0.7108\n",
      "Epoch 3/3, Step 1200, Train Loss: 0.4228, Validation Loss: 0.7939, Validation Accuracy: 0.7137\n",
      "Epoch 3/3, Step 1300, Train Loss: 0.5109, Validation Loss: 0.7991, Validation Accuracy: 0.7139\n",
      "Epoch 3/3, Step 1400, Train Loss: 0.4644, Validation Loss: 0.7924, Validation Accuracy: 0.7101\n",
      "Epoch 3/3, Step 1500, Train Loss: 0.5992, Validation Loss: 0.7911, Validation Accuracy: 0.7118\n",
      "Epoch 3/3, Step 1600, Train Loss: 0.4416, Validation Loss: 0.8021, Validation Accuracy: 0.7137\n",
      "Epoch 3/3, Step 1700, Train Loss: 0.5367, Validation Loss: 0.7956, Validation Accuracy: 0.7153\n",
      "Epoch 3/3, Step 1800, Train Loss: 0.4659, Validation Loss: 0.7932, Validation Accuracy: 0.7120\n",
      "Epoch 3/3, Step 1900, Train Loss: 0.5647, Validation Loss: 0.7831, Validation Accuracy: 0.7138\n",
      "Epoch 3/3, Step 2000, Train Loss: 0.5178, Validation Loss: 0.7900, Validation Accuracy: 0.7146\n",
      "Epoch 3/3, Step 2100, Train Loss: 0.4615, Validation Loss: 0.7860, Validation Accuracy: 0.7121\n",
      "Epoch 3/3, Step 2200, Train Loss: 0.5915, Validation Loss: 0.7843, Validation Accuracy: 0.7164\n"
     ]
    },
    {
     "name": "stdout",
     "output_type": "stream",
     "text": [
      "Epoch 3/3, Step 2300, Train Loss: 0.4878, Validation Loss: 0.7818, Validation Accuracy: 0.7106\n",
      "Epoch 3/3, Step 2400, Train Loss: 0.5652, Validation Loss: 0.7839, Validation Accuracy: 0.7164\n",
      "Epoch 3/3, Step 2500, Train Loss: 0.4768, Validation Loss: 0.7829, Validation Accuracy: 0.7126\n",
      "Epoch 3/3, Step 2600, Train Loss: 0.5282, Validation Loss: 0.7817, Validation Accuracy: 0.7158\n",
      "Epoch 3/3, Step 2700, Train Loss: 0.4875, Validation Loss: 0.7877, Validation Accuracy: 0.7137\n",
      "Epoch 3/3, Step 2800, Train Loss: 0.5141, Validation Loss: 0.7814, Validation Accuracy: 0.7169\n",
      "Epoch 3/3, Step 2900, Train Loss: 0.4677, Validation Loss: 0.7776, Validation Accuracy: 0.7145\n",
      "Epoch 3/3, Step 3000, Train Loss: 0.5636, Validation Loss: 0.7787, Validation Accuracy: 0.7146\n",
      "Epoch 3/3, Step 3100, Train Loss: 0.6451, Validation Loss: 0.7867, Validation Accuracy: 0.7155\n",
      "Epoch 3/3, Step 3200, Train Loss: 0.5714, Validation Loss: 0.7804, Validation Accuracy: 0.7149\n"
     ]
    }
   ],
   "source": [
    "\"\"\"\n",
    "Train your model with dropout. Make sure to clip your gradients.\n",
    "Print the training loss, validation loss, and validation accuracy for every 100 steps.\n",
    "\"\"\"\n",
    "\n",
    "epochs = 3\n",
    "batch_size = 256 #relatively high in order to reduce training time\n",
    "learning_rate = 0.001\n",
    "sequence_length = 20\n",
    "print_every = 100\n",
    "criterion = nn.NLLLoss()\n",
    "optimizer = optim.Adam(model.parameters(), lr=learning_rate)\n",
    "model.train()\n",
    "\n",
    "for epoch in range(epochs):\n",
    "    print('Starting epoch {}'.format(epoch + 1))\n",
    "    hidden = model.init_hidden(batch_size)\n",
    "    \n",
    "    \n",
    "    steps = 0\n",
    "    for text_batch, labels in dataloader(\n",
    "            train_features, train_labels, batch_size=batch_size, sequence_length=20, shuffle=True):\n",
    "        if text_batch.size(1) != batch_size or text_batch.size(0) != sequence_length:\n",
    "            continue\n",
    "        steps += 1\n",
    "        \n",
    "        hidden = tuple([each.data for each in hidden])\n",
    "        \n",
    "        # Set Device\n",
    "        text_batch, labels = text_batch.to(device), labels.to(device)\n",
    "        for each in hidden:\n",
    "            each.to(device)\n",
    "            \n",
    "         # Clear previous gradients\n",
    "        model.zero_grad()\n",
    "\n",
    "        # Forward pass\n",
    "        logps, hidden = model(text_batch, hidden)\n",
    "        loss = criterion(logps, labels)\n",
    "        # Backward pass\n",
    "        loss.backward()\n",
    "        # Clip gradients to prevent exploding gradients\n",
    "        nn.utils.clip_grad_norm_(model.parameters(), max_norm=5)\n",
    "        # Update weights\n",
    "        optimizer.step()\n",
    "        \n",
    "        if steps % print_every == 0:\n",
    "            model.eval()\n",
    "            \n",
    "            # TODO Implement: Print metrics\n",
    "            val_losses = []\n",
    "            val_accuracy = []\n",
    "            val_hidden = model.init_hidden(batch_size)\n",
    "            \n",
    "            for val_text_batch, val_labels in dataloader(\n",
    "                    valid_features, valid_labels, batch_size=batch_size, sequence_length=sequence_length, shuffle=True):\n",
    "                \n",
    "                if val_text_batch.size(1) != batch_size or val_text_batch.size(0) != sequence_length:\n",
    "                    continue\n",
    "                    \n",
    "                val_text_batch, val_labels = val_text_batch.to(device), val_labels.to(device)     \n",
    "                val_hidden = tuple([each.data for each in val_hidden])\n",
    "                \n",
    "                val_logps, hidden = model(val_text_batch, val_hidden)\n",
    "                val_loss = criterion(val_logps.squeeze(), val_labels)\n",
    "                val_losses.append(val_loss.item())\n",
    "\n",
    "                # Calculate accuracy\n",
    "                ps = torch.exp(val_logps)\n",
    "                top_p, top_class = ps.topk(1, dim=1)\n",
    "                equals = top_class == val_labels.view(*top_class.shape)\n",
    "                val_accuracy.append(torch.mean(equals.type(torch.FloatTensor)).item())\n",
    "            \n",
    "            print(f\"Epoch {epoch + 1}/{epochs}, Step {steps}, \"\n",
    "                  f\"Train Loss: {loss.item():.4f}, \"\n",
    "                  f\"Validation Loss: {sum(val_losses) / len(val_losses):.4f}, \"\n",
    "                  f\"Validation Accuracy: {sum(val_accuracy) / len(val_accuracy) :.4f}\")\n",
    "            model.train()"
   ]
  },
  {
   "cell_type": "markdown",
   "metadata": {},
   "source": [
    "## Making Predictions\n",
    "### Prediction \n",
    "Okay, now that you have a trained model, try it on some new twits and see if it works appropriately. Remember that for any new text, you'll need to preprocess it first before passing it to the network. Implement the `predict` function to generate the prediction vector from a message."
   ]
  },
  {
   "cell_type": "code",
   "execution_count": 98,
   "metadata": {},
   "outputs": [],
   "source": [
    "def predict(text, model, vocab):\n",
    "    \"\"\" \n",
    "    Make a prediction on a single sentence.\n",
    "\n",
    "    Parameters\n",
    "    ----------\n",
    "        text : The string to make a prediction on.\n",
    "        model : The model to use for making the prediction.\n",
    "        vocab : Dictionary for word to word ids. The key is the word and the value is the word id.\n",
    "\n",
    "    Returns\n",
    "    -------\n",
    "        pred : Prediction vector\n",
    "    \"\"\"    \n",
    "    \n",
    "    # TODO Implement\n",
    "    \n",
    "    tokens = preprocess(text)\n",
    "    \n",
    "    # Filter non-vocab words\n",
    "    flat_chars = [char[0] if char else ' ' for char in tokens]\n",
    "    sentence = ''.join(flat_chars)\n",
    "    tokens = sentence.split()\n",
    "    tokens = [word for word in tokens if word in filtered_words]\n",
    "    # Convert words to ids\n",
    "    tokens = [vocab[word] for word in tokens]\n",
    "        \n",
    "    # Adding a batch dimension\n",
    "    #text_input = torch.tensor(tokens, dtype=torch.long).view(-1, 1)\n",
    "    text_input = torch.tensor(tokens).unsqueeze(1)\n",
    "    \n",
    "    # Get the NN output\n",
    "    #hidden = model.init_hidden(1)\n",
    "    hidden = model.init_hidden(text_input.size(1))\n",
    "    logps, _ = model(text_input, hidden)\n",
    "    # Take the exponent of the NN output to get a range of 0 to 1 for each label.\n",
    "    pred = torch.exp(logps)\n",
    "    \n",
    "    return pred"
   ]
  },
  {
   "cell_type": "code",
   "execution_count": 99,
   "metadata": {},
   "outputs": [
    {
     "data": {
      "text/plain": [
       "tensor([[ 0.0000,  0.0069,  0.0023,  0.6583,  0.3325]])"
      ]
     },
     "execution_count": 99,
     "metadata": {},
     "output_type": "execute_result"
    }
   ],
   "source": [
    "text = \"Google is working on self driving cars, I'm bullish on $goog\"\n",
    "model.eval()\n",
    "model.to(\"cpu\")\n",
    "predict(text, model, vocab)"
   ]
  },
  {
   "cell_type": "markdown",
   "metadata": {},
   "source": [
    "### Questions: What is the prediction of the model? What is the uncertainty of the prediction?\n",
    "The prediction of the model is a sentiment of 1, with a probability of 65.83%"
   ]
  },
  {
   "cell_type": "markdown",
   "metadata": {},
   "source": [
    "Now we have a trained model and we can make predictions. We can use this model to track the sentiments of various stocks by predicting the sentiments of twits as they are coming in. Now we have a stream of twits. For each of those twits, pull out the stocks mentioned in them and keep track of the sentiments. Remember that in the twits, ticker symbols are encoded with a dollar sign as the first character, all caps, and 2-4 letters, like $AAPL. Ideally, you'd want to track the sentiments of the stocks in your universe and use this as a signal in your larger model(s).\n",
    "\n",
    "## Testing\n",
    "### Load the Data "
   ]
  },
  {
   "cell_type": "code",
   "execution_count": 100,
   "metadata": {},
   "outputs": [],
   "source": [
    "with open(os.path.join('..', '..', 'data', 'project_6_stocktwits', 'test_twits.json'), 'r') as f:\n",
    "    test_data = json.load(f)"
   ]
  },
  {
   "cell_type": "markdown",
   "metadata": {},
   "source": [
    "### Twit Stream"
   ]
  },
  {
   "cell_type": "code",
   "execution_count": 101,
   "metadata": {},
   "outputs": [
    {
     "data": {
      "text/plain": [
       "{'message_body': '$JWN has moved -1.69% on 10-31. Check out the movement and peers at  https://dividendbot.com?s=JWN',\n",
       " 'timestamp': '2018-11-01T00:00:05Z'}"
      ]
     },
     "execution_count": 101,
     "metadata": {},
     "output_type": "execute_result"
    }
   ],
   "source": [
    "def twit_stream():\n",
    "    for twit in test_data['data']:\n",
    "        yield twit\n",
    "\n",
    "next(twit_stream())"
   ]
  },
  {
   "cell_type": "markdown",
   "metadata": {},
   "source": [
    "Using the `prediction` function, let's apply it to a stream of twits."
   ]
  },
  {
   "cell_type": "code",
   "execution_count": 102,
   "metadata": {},
   "outputs": [],
   "source": [
    "def score_twits(stream, model, vocab, universe):\n",
    "    \"\"\" \n",
    "    Given a stream of twits and a universe of tickers, return sentiment scores for tickers in the universe.\n",
    "    \"\"\"\n",
    "    for twit in stream:\n",
    "\n",
    "        # Get the message text\n",
    "        text = twit['message_body']\n",
    "        symbols = re.findall('\\$[A-Z]{2,4}', text)\n",
    "        score = predict(text, model, vocab)\n",
    "\n",
    "        for symbol in symbols:\n",
    "            if symbol in universe:\n",
    "                yield {'symbol': symbol, 'score': score, 'timestamp': twit['timestamp']}"
   ]
  },
  {
   "cell_type": "code",
   "execution_count": 103,
   "metadata": {},
   "outputs": [
    {
     "data": {
      "text/plain": [
       "{'symbol': '$AAPL',\n",
       " 'score': tensor([[ 0.0059,  0.0387,  0.3717,  0.3578,  0.2258]]),\n",
       " 'timestamp': '2018-11-01T00:00:18Z'}"
      ]
     },
     "execution_count": 103,
     "metadata": {},
     "output_type": "execute_result"
    }
   ],
   "source": [
    "universe = {'$BBRY', '$AAPL', '$AMZN', '$BABA', '$YHOO', '$LQMT', '$FB', '$GOOG', '$BBBY', '$JNUG', '$SBUX', '$MU'}\n",
    "score_stream = score_twits(twit_stream(), model, vocab, universe)\n",
    "\n",
    "next(score_stream)"
   ]
  },
  {
   "cell_type": "markdown",
   "metadata": {},
   "source": [
    "That's it. You have successfully built a model for sentiment analysis! "
   ]
  },
  {
   "cell_type": "markdown",
   "metadata": {},
   "source": [
    "## Submission\n",
    "Now that you're done with the project, it's time to submit it. Click the submit button in the bottom right. One of our reviewers will give you feedback on your project with a pass or not passed grade. You can continue to the next section while you wait for feedback."
   ]
  }
 ],
 "metadata": {
  "kernelspec": {
   "display_name": "Python 3",
   "language": "python",
   "name": "python3"
  },
  "language_info": {
   "codemirror_mode": {
    "name": "ipython",
    "version": 3
   },
   "file_extension": ".py",
   "mimetype": "text/x-python",
   "name": "python",
   "nbconvert_exporter": "python",
   "pygments_lexer": "ipython3",
   "version": "3.6.3"
  }
 },
 "nbformat": 4,
 "nbformat_minor": 2
}
